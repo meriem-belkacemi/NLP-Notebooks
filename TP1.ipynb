{
 "cells": [
  {
   "cell_type": "markdown",
   "metadata": {},
   "source": [
    "# Preprocessing of text data\n",
    "We perform the following preprocessing steps on the novel The Great Gatsby : \n",
    "+ Lower casing\n",
    "+ Removal of Punctuations\n",
    "+ Removal of Stopwords\n",
    "+ Removal of Frequent words\n",
    "+ Removal of Rare words\n",
    "+ Stemming\n",
    "+ Lemmatization"
   ]
  },
  {
   "cell_type": "code",
   "execution_count": 1,
   "metadata": {},
   "outputs": [],
   "source": [
    "import spacy\n",
    "nlp = spacy.load(\"en_core_web_sm\")"
   ]
  },
  {
   "cell_type": "code",
   "execution_count": 2,
   "metadata": {},
   "outputs": [
    {
     "data": {
      "text/plain": [
       "326"
      ]
     },
     "execution_count": 2,
     "metadata": {},
     "output_type": "execute_result"
    }
   ],
   "source": [
    "# Importation des stopwords de spacy \n",
    "spacy_stopwords= spacy.lang.en.stop_words.STOP_WORDS\n",
    "len(spacy_stopwords)"
   ]
  },
  {
   "cell_type": "code",
   "execution_count": 3,
   "metadata": {},
   "outputs": [],
   "source": [
    "from collections import Counter\n",
    "from nltk.stem import PorterStemmer"
   ]
  },
  {
   "cell_type": "code",
   "execution_count": 4,
   "metadata": {},
   "outputs": [],
   "source": [
    "# Fonction de preprocessing qui effectue les taches mentionnées précdemment\n",
    "def preprocessing(text, word_frequency_threshold, word_rare_threshold):\n",
    "    # transformer le texte en miniscule\n",
    "    text = text.lower()\n",
    "    # tokenization du texte\n",
    "    doc = nlp(text)\n",
    "    # removal of punctuation\n",
    "    words = [token.text for token in doc if not token.is_punct and not token.is_space]\n",
    "    # removal of stop words\n",
    "    words = [word for word in words if not nlp.vocab[word].is_stop]\n",
    "    \n",
    "    # elimination des mots ayant une frequence superieure a word_frequency_threshold (mots tres fréquents)\n",
    "    word_freq = Counter(words)\n",
    "    words = [word for word in words if word_freq[word] <= word_frequency_threshold]\n",
    "    \n",
    "    # elimination des mots ayant une frequence inferieure a word_rare_threshold (mots tres rares)\n",
    "    rare_words = [word for word in words if word_freq[word] == word_rare_threshold]  \n",
    "    words = [word for word in words if word not in rare_words]\n",
    "\n",
    "    # Stemming avec Porter\n",
    "    stemmer = PorterStemmer()\n",
    "    words = [stemmer.stem(word) for word in words]\n",
    "\n",
    "    # Lemmatization\n",
    "    words = [token.lemma_ for token in nlp(\" \".join(words))]\n",
    "    \n",
    "    # recuperation du nouveau texte consituté des nouveau token\n",
    "    processed_text = \" \".join(words)\n",
    "    return processed_text"
   ]
  },
  {
   "cell_type": "code",
   "execution_count": 5,
   "metadata": {},
   "outputs": [],
   "source": [
    "# sauvegarde du texte preprocessed dans un fichier txt\n",
    "def save_preprocessed_text_to_file(text, output_file_path):\n",
    "    with open(output_file_path, \"w\") as file:\n",
    "        file.write(text)"
   ]
  },
  {
   "cell_type": "code",
   "execution_count": 6,
   "metadata": {},
   "outputs": [],
   "source": [
    "with open(\"Gatsby.txt\", \"r\", encoding=\"utf-8\") as file:\n",
    "    text = file.read()\n",
    "\n",
    "    \n",
    "\n",
    "processed_text = preprocessing(text, word_frequency_threshold=15, word_rare_threshold=2)\n",
    "output_file_path = \"preprocessed_Gatsby.txt\"\n",
    "\n",
    "save_preprocessed_text_to_file(processed_text, output_file_path)\n"
   ]
  }
 ],
 "metadata": {
  "kernelspec": {
   "display_name": "Python 3",
   "language": "python",
   "name": "python3"
  },
  "language_info": {
   "codemirror_mode": {
    "name": "ipython",
    "version": 3
   },
   "file_extension": ".py",
   "mimetype": "text/x-python",
   "name": "python",
   "nbconvert_exporter": "python",
   "pygments_lexer": "ipython3",
   "version": "3.11.5"
  }
 },
 "nbformat": 4,
 "nbformat_minor": 2
}
